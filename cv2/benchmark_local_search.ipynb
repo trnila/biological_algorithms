{
 "cells": [
  {
   "cell_type": "markdown",
   "metadata": {},
   "source": [
    "# Benchmark local search algorithms"
   ]
  },
  {
   "cell_type": "code",
   "execution_count": null,
   "metadata": {},
   "outputs": [
    {
     "data": {
      "text/markdown": [
       "# ackley"
      ],
      "text/plain": [
       "<IPython.core.display.Markdown object>"
      ]
     },
     "metadata": {},
     "output_type": "display_data"
    },
    {
     "data": {
      "image/png": "[encoded data removed]",
      "text/plain": [
       "<Figure size 432x288 with 1 Axes>"
      ]
     },
     "metadata": {
      "needs_background": "light"
     },
     "output_type": "display_data"
    },
    {
     "name": "stdout",
     "output_type": "stream",
     "text": [
      "[0.77671141 0.26446983 0.51666445]\n",
      "[False False False]\n",
      "BartlettResult(statistic=18.373024529869628, pvalue=0.9363136033528959)\n"
     ]
    },
    {
     "data": {
      "text/html": [
       "<div>\n",
       "<style scoped>\n",
       "    .dataframe tbody tr th:only-of-type {\n",
       "        vertical-align: middle;\n",
       "    }\n",
       "\n",
       "    .dataframe tbody tr th {\n",
       "        vertical-align: top;\n",
       "    }\n",
       "\n",
       "    .dataframe thead th {\n",
       "        text-align: right;\n",
       "    }\n",
       "</style>\n",
       "<table border=\"1\" class=\"dataframe\">\n",
       "  <thead>\n",
       "    <tr style=\"text-align: right;\">\n",
       "      <th></th>\n",
       "      <th>ClimbingSearch</th>\n",
       "      <th>Anneling</th>\n",
       "      <th>BlindSearch</th>\n",
       "    </tr>\n",
       "  </thead>\n",
       "  <tbody>\n",
       "    <tr>\n",
       "      <th>count</th>\n",
       "      <td>30.000000</td>\n",
       "      <td>30.000000</td>\n",
       "      <td>30.000000</td>\n",
       "    </tr>\n",
       "    <tr>\n",
       "      <th>mean</th>\n",
       "      <td>8.815586</td>\n",
       "      <td>12.147717</td>\n",
       "      <td>7.520909</td>\n",
       "    </tr>\n",
       "    <tr>\n",
       "      <th>std</th>\n",
       "      <td>2.235754</td>\n",
       "      <td>3.490773</td>\n",
       "      <td>2.516268</td>\n",
       "    </tr>\n",
       "    <tr>\n",
       "      <th>min</th>\n",
       "      <td>3.596421</td>\n",
       "      <td>4.091044</td>\n",
       "      <td>2.623398</td>\n",
       "    </tr>\n",
       "    <tr>\n",
       "      <th>25%</th>\n",
       "      <td>7.253005</td>\n",
       "      <td>10.592645</td>\n",
       "      <td>5.650490</td>\n",
       "    </tr>\n",
       "    <tr>\n",
       "      <th>50%</th>\n",
       "      <td>8.879192</td>\n",
       "      <td>12.700401</td>\n",
       "      <td>7.598987</td>\n",
       "    </tr>\n",
       "    <tr>\n",
       "      <th>75%</th>\n",
       "      <td>10.574711</td>\n",
       "      <td>14.961059</td>\n",
       "      <td>9.391259</td>\n",
       "    </tr>\n",
       "    <tr>\n",
       "      <th>max</th>\n",
       "      <td>12.784826</td>\n",
       "      <td>17.057761</td>\n",
       "      <td>12.245368</td>\n",
       "    </tr>\n",
       "  </tbody>\n",
       "</table>\n",
       "</div>"
      ],
      "text/plain": [
       "       ClimbingSearch   Anneling  BlindSearch\n",
       "count       30.000000  30.000000    30.000000\n",
       "mean         8.815586  12.147717     7.520909\n",
       "std          2.235754   3.490773     2.516268\n",
       "min          3.596421   4.091044     2.623398\n",
       "25%          7.253005  10.592645     5.650490\n",
       "50%          8.879192  12.700401     7.598987\n",
       "75%         10.574711  14.961059     9.391259\n",
       "max         12.784826  17.057761    12.245368"
      ]
     },
     "metadata": {},
     "output_type": "display_data"
    },
    {
     "data": {
      "text/markdown": [
       "# beale"
      ],
      "text/plain": [
       "<IPython.core.display.Markdown object>"
      ]
     },
     "metadata": {},
     "output_type": "display_data"
    },
    {
     "name": "stderr",
     "output_type": "stream",
     "text": [
      "/home/daniel/school/BIA/cv2/algorithms.py:89: RuntimeWarning: overflow encountered in exp\n",
      "  if r < np.exp(-delta/T):\n"
     ]
    },
    {
     "data": {
      "image/png": "[encoded data removed]",
      "text/plain": [
       "<Figure size 432x288 with 1 Axes>"
      ]
     },
     "metadata": {
      "needs_background": "light"
     },
     "output_type": "display_data"
    },
    {
     "name": "stdout",
     "output_type": "stream",
     "text": [
      "[1.17985589e-09 6.34360628e-09 1.41873890e-10]\n",
      "[ True  True  True]\n",
      "BartlettResult(statistic=359.5296579252079, pvalue=1.0911086878244941e-58)\n"
     ]
    },
    {
     "data": {
      "text/html": [
       "<div>\n",
       "<style scoped>\n",
       "    .dataframe tbody tr th:only-of-type {\n",
       "        vertical-align: middle;\n",
       "    }\n",
       "\n",
       "    .dataframe tbody tr th {\n",
       "        vertical-align: top;\n",
       "    }\n",
       "\n",
       "    .dataframe thead th {\n",
       "        text-align: right;\n",
       "    }\n",
       "</style>\n",
       "<table border=\"1\" class=\"dataframe\">\n",
       "  <thead>\n",
       "    <tr style=\"text-align: right;\">\n",
       "      <th></th>\n",
       "      <th>ClimbingSearch</th>\n",
       "      <th>Anneling</th>\n",
       "      <th>BlindSearch</th>\n",
       "    </tr>\n",
       "  </thead>\n",
       "  <tbody>\n",
       "    <tr>\n",
       "      <th>count</th>\n",
       "      <td>30.000000</td>\n",
       "      <td>3.000000e+01</td>\n",
       "      <td>30.000000</td>\n",
       "    </tr>\n",
       "    <tr>\n",
       "      <th>mean</th>\n",
       "      <td>18730.740777</td>\n",
       "      <td>1.782410e+05</td>\n",
       "      <td>164.884782</td>\n",
       "    </tr>\n",
       "    <tr>\n",
       "      <th>std</th>\n",
       "      <td>47822.752386</td>\n",
       "      <td>4.160123e+05</td>\n",
       "      <td>395.765899</td>\n",
       "    </tr>\n",
       "    <tr>\n",
       "      <th>min</th>\n",
       "      <td>0.123457</td>\n",
       "      <td>4.444599e-01</td>\n",
       "      <td>0.083880</td>\n",
       "    </tr>\n",
       "    <tr>\n",
       "      <th>25%</th>\n",
       "      <td>9.592530</td>\n",
       "      <td>6.487556e+02</td>\n",
       "      <td>4.292690</td>\n",
       "    </tr>\n",
       "    <tr>\n",
       "      <th>50%</th>\n",
       "      <td>148.935216</td>\n",
       "      <td>6.314832e+03</td>\n",
       "      <td>18.044560</td>\n",
       "    </tr>\n",
       "    <tr>\n",
       "      <th>75%</th>\n",
       "      <td>3170.778729</td>\n",
       "      <td>6.710573e+04</td>\n",
       "      <td>93.222334</td>\n",
       "    </tr>\n",
       "    <tr>\n",
       "      <th>max</th>\n",
       "      <td>213341.091790</td>\n",
       "      <td>1.829869e+06</td>\n",
       "      <td>1834.776873</td>\n",
       "    </tr>\n",
       "  </tbody>\n",
       "</table>\n",
       "</div>"
      ],
      "text/plain": [
       "       ClimbingSearch      Anneling  BlindSearch\n",
       "count       30.000000  3.000000e+01    30.000000\n",
       "mean     18730.740777  1.782410e+05   164.884782\n",
       "std      47822.752386  4.160123e+05   395.765899\n",
       "min          0.123457  4.444599e-01     0.083880\n",
       "25%          9.592530  6.487556e+02     4.292690\n",
       "50%        148.935216  6.314832e+03    18.044560\n",
       "75%       3170.778729  6.710573e+04    93.222334\n",
       "max     213341.091790  1.829869e+06  1834.776873"
      ]
     },
     "metadata": {},
     "output_type": "display_data"
    },
    {
     "data": {
      "text/markdown": [
       "# bukin_n6"
      ],
      "text/plain": [
       "<IPython.core.display.Markdown object>"
      ]
     },
     "metadata": {},
     "output_type": "display_data"
    },
    {
     "data": {
      "image/png": "[encoded data removed]",
      "text/plain": [
       "<Figure size 432x288 with 1 Axes>"
      ]
     },
     "metadata": {
      "needs_background": "light"
     },
     "output_type": "display_data"
    },
    {
     "name": "stdout",
     "output_type": "stream",
     "text": [
      "[0.14358789 0.1836414  0.25214747]\n",
      "[False False False]\n",
      "BartlettResult(statistic=28.881309760984244, pvalue=0.4712604828464382)\n"
     ]
    },
    {
     "data": {
      "text/html": [
       "<div>\n",
       "<style scoped>\n",
       "    .dataframe tbody tr th:only-of-type {\n",
       "        vertical-align: middle;\n",
       "    }\n",
       "\n",
       "    .dataframe tbody tr th {\n",
       "        vertical-align: top;\n",
       "    }\n",
       "\n",
       "    .dataframe thead th {\n",
       "        text-align: right;\n",
       "    }\n",
       "</style>\n",
       "<table border=\"1\" class=\"dataframe\">\n",
       "  <thead>\n",
       "    <tr style=\"text-align: right;\">\n",
       "      <th></th>\n",
       "      <th>ClimbingSearch</th>\n",
       "      <th>Anneling</th>\n",
       "      <th>BlindSearch</th>\n",
       "    </tr>\n",
       "  </thead>\n",
       "  <tbody>\n",
       "    <tr>\n",
       "      <th>count</th>\n",
       "      <td>30.000000</td>\n",
       "      <td>30.000000</td>\n",
       "      <td>30.000000</td>\n",
       "    </tr>\n",
       "    <tr>\n",
       "      <th>mean</th>\n",
       "      <td>118.870669</td>\n",
       "      <td>171.256835</td>\n",
       "      <td>92.752406</td>\n",
       "    </tr>\n",
       "    <tr>\n",
       "      <th>std</th>\n",
       "      <td>70.685425</td>\n",
       "      <td>62.722004</td>\n",
       "      <td>45.174156</td>\n",
       "    </tr>\n",
       "    <tr>\n",
       "      <th>min</th>\n",
       "      <td>1.684227</td>\n",
       "      <td>49.996369</td>\n",
       "      <td>4.856927</td>\n",
       "    </tr>\n",
       "    <tr>\n",
       "      <th>25%</th>\n",
       "      <td>68.097324</td>\n",
       "      <td>125.109148</td>\n",
       "      <td>56.797676</td>\n",
       "    </tr>\n",
       "    <tr>\n",
       "      <th>50%</th>\n",
       "      <td>119.225033</td>\n",
       "      <td>176.805471</td>\n",
       "      <td>92.628812</td>\n",
       "    </tr>\n",
       "    <tr>\n",
       "      <th>75%</th>\n",
       "      <td>173.971318</td>\n",
       "      <td>225.123453</td>\n",
       "      <td>123.615841</td>\n",
       "    </tr>\n",
       "    <tr>\n",
       "      <th>max</th>\n",
       "      <td>228.036437</td>\n",
       "      <td>266.232212</td>\n",
       "      <td>165.385929</td>\n",
       "    </tr>\n",
       "  </tbody>\n",
       "</table>\n",
       "</div>"
      ],
      "text/plain": [
       "       ClimbingSearch    Anneling  BlindSearch\n",
       "count       30.000000   30.000000    30.000000\n",
       "mean       118.870669  171.256835    92.752406\n",
       "std         70.685425   62.722004    45.174156\n",
       "min          1.684227   49.996369     4.856927\n",
       "25%         68.097324  125.109148    56.797676\n",
       "50%        119.225033  176.805471    92.628812\n",
       "75%        173.971318  225.123453   123.615841\n",
       "max        228.036437  266.232212   165.385929"
      ]
     },
     "metadata": {},
     "output_type": "display_data"
    },
    {
     "data": {
      "text/markdown": [
       "# goldstein_price"
      ],
      "text/plain": [
       "<IPython.core.display.Markdown object>"
      ]
     },
     "metadata": {},
     "output_type": "display_data"
    },
    {
     "data": {
      "image/png": "[encoded data removed]",
      "text/plain": [
       "<Figure size 432x288 with 1 Axes>"
      ]
     },
     "metadata": {
      "needs_background": "light"
     },
     "output_type": "display_data"
    },
    {
     "name": "stdout",
     "output_type": "stream",
     "text": [
      "[6.66563189e-11 3.35928538e-16 6.29147813e-13]\n",
      "[ True  True  True]\n",
      "BartlettResult(statistic=647.3753728324905, pvalue=9.244872170257218e-118)\n"
     ]
    },
    {
     "data": {
      "text/html": [
       "<div>\n",
       "<style scoped>\n",
       "    .dataframe tbody tr th:only-of-type {\n",
       "        vertical-align: middle;\n",
       "    }\n",
       "\n",
       "    .dataframe tbody tr th {\n",
       "        vertical-align: top;\n",
       "    }\n",
       "\n",
       "    .dataframe thead th {\n",
       "        text-align: right;\n",
       "    }\n",
       "</style>\n",
       "<table border=\"1\" class=\"dataframe\">\n",
       "  <thead>\n",
       "    <tr style=\"text-align: right;\">\n",
       "      <th></th>\n",
       "      <th>ClimbingSearch</th>\n",
       "      <th>Anneling</th>\n",
       "      <th>BlindSearch</th>\n",
       "    </tr>\n",
       "  </thead>\n",
       "  <tbody>\n",
       "    <tr>\n",
       "      <th>count</th>\n",
       "      <td>3.000000e+01</td>\n",
       "      <td>3.000000e+01</td>\n",
       "      <td>3.000000e+01</td>\n",
       "    </tr>\n",
       "    <tr>\n",
       "      <th>mean</th>\n",
       "      <td>2.641951e+07</td>\n",
       "      <td>1.151554e+10</td>\n",
       "      <td>4.135145e+05</td>\n",
       "    </tr>\n",
       "    <tr>\n",
       "      <th>std</th>\n",
       "      <td>5.354112e+07</td>\n",
       "      <td>5.244847e+10</td>\n",
       "      <td>1.096677e+06</td>\n",
       "    </tr>\n",
       "    <tr>\n",
       "      <th>min</th>\n",
       "      <td>3.130132e+03</td>\n",
       "      <td>3.271869e+03</td>\n",
       "      <td>3.770108e+01</td>\n",
       "    </tr>\n",
       "    <tr>\n",
       "      <th>25%</th>\n",
       "      <td>1.032567e+05</td>\n",
       "      <td>1.876591e+06</td>\n",
       "      <td>7.138555e+03</td>\n",
       "    </tr>\n",
       "    <tr>\n",
       "      <th>50%</th>\n",
       "      <td>3.478294e+06</td>\n",
       "      <td>2.046651e+07</td>\n",
       "      <td>5.532446e+04</td>\n",
       "    </tr>\n",
       "    <tr>\n",
       "      <th>75%</th>\n",
       "      <td>2.328744e+07</td>\n",
       "      <td>5.154228e+08</td>\n",
       "      <td>2.026927e+05</td>\n",
       "    </tr>\n",
       "    <tr>\n",
       "      <th>max</th>\n",
       "      <td>2.646498e+08</td>\n",
       "      <td>2.876383e+11</td>\n",
       "      <td>5.611295e+06</td>\n",
       "    </tr>\n",
       "  </tbody>\n",
       "</table>\n",
       "</div>"
      ],
      "text/plain": [
       "       ClimbingSearch      Anneling   BlindSearch\n",
       "count    3.000000e+01  3.000000e+01  3.000000e+01\n",
       "mean     2.641951e+07  1.151554e+10  4.135145e+05\n",
       "std      5.354112e+07  5.244847e+10  1.096677e+06\n",
       "min      3.130132e+03  3.271869e+03  3.770108e+01\n",
       "25%      1.032567e+05  1.876591e+06  7.138555e+03\n",
       "50%      3.478294e+06  2.046651e+07  5.532446e+04\n",
       "75%      2.328744e+07  5.154228e+08  2.026927e+05\n",
       "max      2.646498e+08  2.876383e+11  5.611295e+06"
      ]
     },
     "metadata": {},
     "output_type": "display_data"
    },
    {
     "data": {
      "text/markdown": [
       "# griewank"
      ],
      "text/plain": [
       "<IPython.core.display.Markdown object>"
      ]
     },
     "metadata": {},
     "output_type": "display_data"
    },
    {
     "data": {
      "image/png": "[encoded data removed]",
      "text/plain": [
       "<Figure size 432x288 with 1 Axes>"
      ]
     },
     "metadata": {
      "needs_background": "light"
     },
     "output_type": "display_data"
    },
    {
     "name": "stdout",
     "output_type": "stream",
     "text": [
      "[0.25534973 0.21424251 0.18341655]\n",
      "[False False False]\n",
      "BartlettResult(statistic=22.836467803827745, pvalue=0.7839734493135505)\n"
     ]
    },
    {
     "data": {
      "text/html": [
       "<div>\n",
       "<style scoped>\n",
       "    .dataframe tbody tr th:only-of-type {\n",
       "        vertical-align: middle;\n",
       "    }\n",
       "\n",
       "    .dataframe tbody tr th {\n",
       "        vertical-align: top;\n",
       "    }\n",
       "\n",
       "    .dataframe thead th {\n",
       "        text-align: right;\n",
       "    }\n",
       "</style>\n",
       "<table border=\"1\" class=\"dataframe\">\n",
       "  <thead>\n",
       "    <tr style=\"text-align: right;\">\n",
       "      <th></th>\n",
       "      <th>ClimbingSearch</th>\n",
       "      <th>Anneling</th>\n",
       "      <th>BlindSearch</th>\n",
       "    </tr>\n",
       "  </thead>\n",
       "  <tbody>\n",
       "    <tr>\n",
       "      <th>count</th>\n",
       "      <td>30.000000</td>\n",
       "      <td>30.000000</td>\n",
       "      <td>30.000000</td>\n",
       "    </tr>\n",
       "    <tr>\n",
       "      <th>mean</th>\n",
       "      <td>0.602374</td>\n",
       "      <td>0.868089</td>\n",
       "      <td>0.397558</td>\n",
       "    </tr>\n",
       "    <tr>\n",
       "      <th>std</th>\n",
       "      <td>0.456742</td>\n",
       "      <td>0.519405</td>\n",
       "      <td>0.299086</td>\n",
       "    </tr>\n",
       "    <tr>\n",
       "      <th>min</th>\n",
       "      <td>0.009467</td>\n",
       "      <td>0.079013</td>\n",
       "      <td>0.022911</td>\n",
       "    </tr>\n",
       "    <tr>\n",
       "      <th>25%</th>\n",
       "      <td>0.212851</td>\n",
       "      <td>0.389084</td>\n",
       "      <td>0.160406</td>\n",
       "    </tr>\n",
       "    <tr>\n",
       "      <th>50%</th>\n",
       "      <td>0.519191</td>\n",
       "      <td>0.792742</td>\n",
       "      <td>0.334472</td>\n",
       "    </tr>\n",
       "    <tr>\n",
       "      <th>75%</th>\n",
       "      <td>0.877912</td>\n",
       "      <td>1.274604</td>\n",
       "      <td>0.588153</td>\n",
       "    </tr>\n",
       "    <tr>\n",
       "      <th>max</th>\n",
       "      <td>1.652468</td>\n",
       "      <td>1.830956</td>\n",
       "      <td>1.046731</td>\n",
       "    </tr>\n",
       "  </tbody>\n",
       "</table>\n",
       "</div>"
      ],
      "text/plain": [
       "       ClimbingSearch   Anneling  BlindSearch\n",
       "count       30.000000  30.000000    30.000000\n",
       "mean         0.602374   0.868089     0.397558\n",
       "std          0.456742   0.519405     0.299086\n",
       "min          0.009467   0.079013     0.022911\n",
       "25%          0.212851   0.389084     0.160406\n",
       "50%          0.519191   0.792742     0.334472\n",
       "75%          0.877912   1.274604     0.588153\n",
       "max          1.652468   1.830956     1.046731"
      ]
     },
     "metadata": {},
     "output_type": "display_data"
    },
    {
     "data": {
      "text/markdown": [
       "# holder_table"
      ],
      "text/plain": [
       "<IPython.core.display.Markdown object>"
      ]
     },
     "metadata": {},
     "output_type": "display_data"
    },
    {
     "data": {
      "image/png": "[encoded data removed]",
      "text/plain": [
       "<Figure size 432x288 with 1 Axes>"
      ]
     },
     "metadata": {
      "needs_background": "light"
     },
     "output_type": "display_data"
    },
    {
     "name": "stdout",
     "output_type": "stream",
     "text": [
      "[0.00044325 0.12199519 0.08829952]\n",
      "[ True False False]\n",
      "BartlettResult(statistic=29.49991185311175, pvalue=0.43926922426651044)\n"
     ]
    },
    {
     "data": {
      "text/html": [
       "<div>\n",
       "<style scoped>\n",
       "    .dataframe tbody tr th:only-of-type {\n",
       "        vertical-align: middle;\n",
       "    }\n",
       "\n",
       "    .dataframe tbody tr th {\n",
       "        vertical-align: top;\n",
       "    }\n",
       "\n",
       "    .dataframe thead th {\n",
       "        text-align: right;\n",
       "    }\n",
       "</style>\n",
       "<table border=\"1\" class=\"dataframe\">\n",
       "  <thead>\n",
       "    <tr style=\"text-align: right;\">\n",
       "      <th></th>\n",
       "      <th>ClimbingSearch</th>\n",
       "      <th>Anneling</th>\n",
       "      <th>BlindSearch</th>\n",
       "    </tr>\n",
       "  </thead>\n",
       "  <tbody>\n",
       "    <tr>\n",
       "      <th>count</th>\n",
       "      <td>30.000000</td>\n",
       "      <td>30.000000</td>\n",
       "      <td>30.000000</td>\n",
       "    </tr>\n",
       "    <tr>\n",
       "      <th>mean</th>\n",
       "      <td>-1.775679</td>\n",
       "      <td>-1.097032</td>\n",
       "      <td>-1.725436</td>\n",
       "    </tr>\n",
       "    <tr>\n",
       "      <th>std</th>\n",
       "      <td>0.985879</td>\n",
       "      <td>0.776260</td>\n",
       "      <td>0.551718</td>\n",
       "    </tr>\n",
       "    <tr>\n",
       "      <th>min</th>\n",
       "      <td>-4.708890</td>\n",
       "      <td>-3.003793</td>\n",
       "      <td>-3.374925</td>\n",
       "    </tr>\n",
       "    <tr>\n",
       "      <th>25%</th>\n",
       "      <td>-2.226469</td>\n",
       "      <td>-1.450608</td>\n",
       "      <td>-2.084046</td>\n",
       "    </tr>\n",
       "    <tr>\n",
       "      <th>50%</th>\n",
       "      <td>-1.722576</td>\n",
       "      <td>-0.894218</td>\n",
       "      <td>-1.736076</td>\n",
       "    </tr>\n",
       "    <tr>\n",
       "      <th>75%</th>\n",
       "      <td>-1.063454</td>\n",
       "      <td>-0.553780</td>\n",
       "      <td>-1.295632</td>\n",
       "    </tr>\n",
       "    <tr>\n",
       "      <th>max</th>\n",
       "      <td>-0.495354</td>\n",
       "      <td>-0.021270</td>\n",
       "      <td>-0.840443</td>\n",
       "    </tr>\n",
       "  </tbody>\n",
       "</table>\n",
       "</div>"
      ],
      "text/plain": [
       "       ClimbingSearch   Anneling  BlindSearch\n",
       "count       30.000000  30.000000    30.000000\n",
       "mean        -1.775679  -1.097032    -1.725436\n",
       "std          0.985879   0.776260     0.551718\n",
       "min         -4.708890  -3.003793    -3.374925\n",
       "25%         -2.226469  -1.450608    -2.084046\n",
       "50%         -1.722576  -0.894218    -1.736076\n",
       "75%         -1.063454  -0.553780    -1.295632\n",
       "max         -0.495354  -0.021270    -0.840443"
      ]
     },
     "metadata": {},
     "output_type": "display_data"
    },
    {
     "data": {
      "text/markdown": [
       "# plane"
      ],
      "text/plain": [
       "<IPython.core.display.Markdown object>"
      ]
     },
     "metadata": {},
     "output_type": "display_data"
    },
    {
     "data": {
      "image/png": "[encoded data removed]",
      "text/plain": [
       "<Figure size 432x288 with 1 Axes>"
      ]
     },
     "metadata": {
      "needs_background": "light"
     },
     "output_type": "display_data"
    },
    {
     "name": "stdout",
     "output_type": "stream",
     "text": [
      "[0.58273849 0.58273849 0.58273849]\n",
      "[False False False]\n",
      "BartlettResult(statistic=nan, pvalue=nan)\n"
     ]
    },
    {
     "name": "stderr",
     "output_type": "stream",
     "text": [
      "/usr/lib/python3.7/site-packages/scipy/stats/morestats.py:1852: RuntimeWarning: divide by zero encountered in log\n",
      "  numer = (Ntot*1.0 - k) * log(spsq) - np.sum((Ni - 1.0)*log(ssq), axis=0)\n",
      "/usr/lib/python3.7/site-packages/scipy/stats/morestats.py:1852: RuntimeWarning: invalid value encountered in double_scalars\n",
      "  numer = (Ntot*1.0 - k) * log(spsq) - np.sum((Ni - 1.0)*log(ssq), axis=0)\n",
      "/usr/lib/python3.7/site-packages/scipy/stats/_distn_infrastructure.py:879: RuntimeWarning: invalid value encountered in greater\n",
      "  return (self.a < x) & (x < self.b)\n",
      "/usr/lib/python3.7/site-packages/scipy/stats/_distn_infrastructure.py:879: RuntimeWarning: invalid value encountered in less\n",
      "  return (self.a < x) & (x < self.b)\n",
      "/usr/lib/python3.7/site-packages/scipy/stats/_distn_infrastructure.py:1821: RuntimeWarning: invalid value encountered in less_equal\n",
      "  cond2 = cond0 & (x <= self.a)\n"
     ]
    },
    {
     "data": {
      "text/html": [
       "<div>\n",
       "<style scoped>\n",
       "    .dataframe tbody tr th:only-of-type {\n",
       "        vertical-align: middle;\n",
       "    }\n",
       "\n",
       "    .dataframe tbody tr th {\n",
       "        vertical-align: top;\n",
       "    }\n",
       "\n",
       "    .dataframe thead th {\n",
       "        text-align: right;\n",
       "    }\n",
       "</style>\n",
       "<table border=\"1\" class=\"dataframe\">\n",
       "  <thead>\n",
       "    <tr style=\"text-align: right;\">\n",
       "      <th></th>\n",
       "      <th>ClimbingSearch</th>\n",
       "      <th>Anneling</th>\n",
       "      <th>BlindSearch</th>\n",
       "    </tr>\n",
       "  </thead>\n",
       "  <tbody>\n",
       "    <tr>\n",
       "      <th>count</th>\n",
       "      <td>30.0</td>\n",
       "      <td>30.0</td>\n",
       "      <td>30.0</td>\n",
       "    </tr>\n",
       "    <tr>\n",
       "      <th>mean</th>\n",
       "      <td>0.0</td>\n",
       "      <td>0.0</td>\n",
       "      <td>0.0</td>\n",
       "    </tr>\n",
       "    <tr>\n",
       "      <th>std</th>\n",
       "      <td>0.0</td>\n",
       "      <td>0.0</td>\n",
       "      <td>0.0</td>\n",
       "    </tr>\n",
       "    <tr>\n",
       "      <th>min</th>\n",
       "      <td>0.0</td>\n",
       "      <td>0.0</td>\n",
       "      <td>0.0</td>\n",
       "    </tr>\n",
       "    <tr>\n",
       "      <th>25%</th>\n",
       "      <td>0.0</td>\n",
       "      <td>0.0</td>\n",
       "      <td>0.0</td>\n",
       "    </tr>\n",
       "    <tr>\n",
       "      <th>50%</th>\n",
       "      <td>0.0</td>\n",
       "      <td>0.0</td>\n",
       "      <td>0.0</td>\n",
       "    </tr>\n",
       "    <tr>\n",
       "      <th>75%</th>\n",
       "      <td>0.0</td>\n",
       "      <td>0.0</td>\n",
       "      <td>0.0</td>\n",
       "    </tr>\n",
       "    <tr>\n",
       "      <th>max</th>\n",
       "      <td>0.0</td>\n",
       "      <td>0.0</td>\n",
       "      <td>0.0</td>\n",
       "    </tr>\n",
       "  </tbody>\n",
       "</table>\n",
       "</div>"
      ],
      "text/plain": [
       "       ClimbingSearch  Anneling  BlindSearch\n",
       "count            30.0      30.0         30.0\n",
       "mean              0.0       0.0          0.0\n",
       "std               0.0       0.0          0.0\n",
       "min               0.0       0.0          0.0\n",
       "25%               0.0       0.0          0.0\n",
       "50%               0.0       0.0          0.0\n",
       "75%               0.0       0.0          0.0\n",
       "max               0.0       0.0          0.0"
      ]
     },
     "metadata": {},
     "output_type": "display_data"
    },
    {
     "data": {
      "text/markdown": [
       "# rastrigin"
      ],
      "text/plain": [
       "<IPython.core.display.Markdown object>"
      ]
     },
     "metadata": {},
     "output_type": "display_data"
    },
    {
     "data": {
      "image/png": "[encoded data removed]",
      "text/plain": [
       "<Figure size 432x288 with 1 Axes>"
      ]
     },
     "metadata": {
      "needs_background": "light"
     },
     "output_type": "display_data"
    },
    {
     "name": "stdout",
     "output_type": "stream",
     "text": [
      "[0.07980452 0.10026161 0.39111651]\n",
      "[False False False]\n",
      "BartlettResult(statistic=39.66019785469093, pvalue=0.08964797104479588)\n"
     ]
    },
    {
     "data": {
      "text/html": [
       "<div>\n",
       "<style scoped>\n",
       "    .dataframe tbody tr th:only-of-type {\n",
       "        vertical-align: middle;\n",
       "    }\n",
       "\n",
       "    .dataframe tbody tr th {\n",
       "        vertical-align: top;\n",
       "    }\n",
       "\n",
       "    .dataframe thead th {\n",
       "        text-align: right;\n",
       "    }\n",
       "</style>\n",
       "<table border=\"1\" class=\"dataframe\">\n",
       "  <thead>\n",
       "    <tr style=\"text-align: right;\">\n",
       "      <th></th>\n",
       "      <th>ClimbingSearch</th>\n",
       "      <th>Anneling</th>\n",
       "      <th>BlindSearch</th>\n",
       "    </tr>\n",
       "  </thead>\n",
       "  <tbody>\n",
       "    <tr>\n",
       "      <th>count</th>\n",
       "      <td>30.000000</td>\n",
       "      <td>30.000000</td>\n",
       "      <td>30.000000</td>\n",
       "    </tr>\n",
       "    <tr>\n",
       "      <th>mean</th>\n",
       "      <td>27.965392</td>\n",
       "      <td>49.964157</td>\n",
       "      <td>24.478029</td>\n",
       "    </tr>\n",
       "    <tr>\n",
       "      <th>std</th>\n",
       "      <td>18.543064</td>\n",
       "      <td>25.126371</td>\n",
       "      <td>11.079843</td>\n",
       "    </tr>\n",
       "    <tr>\n",
       "      <th>min</th>\n",
       "      <td>1.216120</td>\n",
       "      <td>9.716653</td>\n",
       "      <td>6.072883</td>\n",
       "    </tr>\n",
       "    <tr>\n",
       "      <th>25%</th>\n",
       "      <td>10.704899</td>\n",
       "      <td>30.533423</td>\n",
       "      <td>17.901392</td>\n",
       "    </tr>\n",
       "    <tr>\n",
       "      <th>50%</th>\n",
       "      <td>33.022121</td>\n",
       "      <td>47.102275</td>\n",
       "      <td>22.779294</td>\n",
       "    </tr>\n",
       "    <tr>\n",
       "      <th>75%</th>\n",
       "      <td>40.822569</td>\n",
       "      <td>55.306193</td>\n",
       "      <td>29.094849</td>\n",
       "    </tr>\n",
       "    <tr>\n",
       "      <th>max</th>\n",
       "      <td>61.007531</td>\n",
       "      <td>112.174264</td>\n",
       "      <td>49.627644</td>\n",
       "    </tr>\n",
       "  </tbody>\n",
       "</table>\n",
       "</div>"
      ],
      "text/plain": [
       "       ClimbingSearch    Anneling  BlindSearch\n",
       "count       30.000000   30.000000    30.000000\n",
       "mean        27.965392   49.964157    24.478029\n",
       "std         18.543064   25.126371    11.079843\n",
       "min          1.216120    9.716653     6.072883\n",
       "25%         10.704899   30.533423    17.901392\n",
       "50%         33.022121   47.102275    22.779294\n",
       "75%         40.822569   55.306193    29.094849\n",
       "max         61.007531  112.174264    49.627644"
      ]
     },
     "metadata": {},
     "output_type": "display_data"
    },
    {
     "data": {
      "text/markdown": [
       "# schwefel_2_20"
      ],
      "text/plain": [
       "<IPython.core.display.Markdown object>"
      ]
     },
     "metadata": {},
     "output_type": "display_data"
    },
    {
     "data": {
      "image/png": "[encoded data removed]",
      "text/plain": [
       "<Figure size 432x288 with 1 Axes>"
      ]
     },
     "metadata": {
      "needs_background": "light"
     },
     "output_type": "display_data"
    },
    {
     "name": "stdout",
     "output_type": "stream",
     "text": [
      "[0.08652919 0.95372191 0.52119547]\n",
      "[False False False]\n",
      "BartlettResult(statistic=22.19176883832108, pvalue=0.8121632459651976)\n"
     ]
    },
    {
     "data": {
      "text/html": [
       "<div>\n",
       "<style scoped>\n",
       "    .dataframe tbody tr th:only-of-type {\n",
       "        vertical-align: middle;\n",
       "    }\n",
       "\n",
       "    .dataframe tbody tr th {\n",
       "        vertical-align: top;\n",
       "    }\n",
       "\n",
       "    .dataframe thead th {\n",
       "        text-align: right;\n",
       "    }\n",
       "</style>\n",
       "<table border=\"1\" class=\"dataframe\">\n",
       "  <thead>\n",
       "    <tr style=\"text-align: right;\">\n",
       "      <th></th>\n",
       "      <th>ClimbingSearch</th>\n",
       "      <th>Anneling</th>\n",
       "      <th>BlindSearch</th>\n",
       "    </tr>\n",
       "  </thead>\n",
       "  <tbody>\n",
       "    <tr>\n",
       "      <th>count</th>\n",
       "      <td>30.000000</td>\n",
       "      <td>30.000000</td>\n",
       "      <td>30.000000</td>\n",
       "    </tr>\n",
       "    <tr>\n",
       "      <th>mean</th>\n",
       "      <td>4.615024</td>\n",
       "      <td>7.257020</td>\n",
       "      <td>3.144282</td>\n",
       "    </tr>\n",
       "    <tr>\n",
       "      <th>std</th>\n",
       "      <td>2.679104</td>\n",
       "      <td>3.014858</td>\n",
       "      <td>1.616462</td>\n",
       "    </tr>\n",
       "    <tr>\n",
       "      <th>min</th>\n",
       "      <td>0.031914</td>\n",
       "      <td>1.514755</td>\n",
       "      <td>0.587372</td>\n",
       "    </tr>\n",
       "    <tr>\n",
       "      <th>25%</th>\n",
       "      <td>2.430170</td>\n",
       "      <td>5.333430</td>\n",
       "      <td>2.089390</td>\n",
       "    </tr>\n",
       "    <tr>\n",
       "      <th>50%</th>\n",
       "      <td>4.669514</td>\n",
       "      <td>7.032313</td>\n",
       "      <td>3.124826</td>\n",
       "    </tr>\n",
       "    <tr>\n",
       "      <th>75%</th>\n",
       "      <td>6.488105</td>\n",
       "      <td>8.912341</td>\n",
       "      <td>4.225182</td>\n",
       "    </tr>\n",
       "    <tr>\n",
       "      <th>max</th>\n",
       "      <td>9.048253</td>\n",
       "      <td>13.001660</td>\n",
       "      <td>6.620730</td>\n",
       "    </tr>\n",
       "  </tbody>\n",
       "</table>\n",
       "</div>"
      ],
      "text/plain": [
       "       ClimbingSearch   Anneling  BlindSearch\n",
       "count       30.000000  30.000000    30.000000\n",
       "mean         4.615024   7.257020     3.144282\n",
       "std          2.679104   3.014858     1.616462\n",
       "min          0.031914   1.514755     0.587372\n",
       "25%          2.430170   5.333430     2.089390\n",
       "50%          4.669514   7.032313     3.124826\n",
       "75%          6.488105   8.912341     4.225182\n",
       "max          9.048253  13.001660     6.620730"
      ]
     },
     "metadata": {},
     "output_type": "display_data"
    },
    {
     "data": {
      "text/markdown": [
       "# schwefel_2_23"
      ],
      "text/plain": [
       "<IPython.core.display.Markdown object>"
      ]
     },
     "metadata": {},
     "output_type": "display_data"
    },
    {
     "data": {
      "image/png": "[encoded data removed]",
      "text/plain": [
       "<Figure size 432x288 with 1 Axes>"
      ]
     },
     "metadata": {
      "needs_background": "light"
     },
     "output_type": "display_data"
    },
    {
     "name": "stdout",
     "output_type": "stream",
     "text": [
      "[1.51917437e-07 3.00548761e-15 2.23100806e-11]\n",
      "[ True  True  True]\n",
      "BartlettResult(statistic=537.487835639746, pvalue=5.5067784624767837e-95)\n"
     ]
    },
    {
     "data": {
      "text/html": [
       "<div>\n",
       "<style scoped>\n",
       "    .dataframe tbody tr th:only-of-type {\n",
       "        vertical-align: middle;\n",
       "    }\n",
       "\n",
       "    .dataframe tbody tr th {\n",
       "        vertical-align: top;\n",
       "    }\n",
       "\n",
       "    .dataframe thead th {\n",
       "        text-align: right;\n",
       "    }\n",
       "</style>\n",
       "<table border=\"1\" class=\"dataframe\">\n",
       "  <thead>\n",
       "    <tr style=\"text-align: right;\">\n",
       "      <th></th>\n",
       "      <th>ClimbingSearch</th>\n",
       "      <th>Anneling</th>\n",
       "      <th>BlindSearch</th>\n",
       "    </tr>\n",
       "  </thead>\n",
       "  <tbody>\n",
       "    <tr>\n",
       "      <th>count</th>\n",
       "      <td>3.000000e+01</td>\n",
       "      <td>3.000000e+01</td>\n",
       "      <td>3.000000e+01</td>\n",
       "    </tr>\n",
       "    <tr>\n",
       "      <th>mean</th>\n",
       "      <td>2.382559e+06</td>\n",
       "      <td>4.243862e+08</td>\n",
       "      <td>2.090568e+05</td>\n",
       "    </tr>\n",
       "    <tr>\n",
       "      <th>std</th>\n",
       "      <td>4.421461e+06</td>\n",
       "      <td>1.602126e+09</td>\n",
       "      <td>6.425099e+05</td>\n",
       "    </tr>\n",
       "    <tr>\n",
       "      <th>min</th>\n",
       "      <td>5.564683e-01</td>\n",
       "      <td>6.009773e-04</td>\n",
       "      <td>5.607765e-06</td>\n",
       "    </tr>\n",
       "    <tr>\n",
       "      <th>25%</th>\n",
       "      <td>7.759592e+03</td>\n",
       "      <td>4.521543e+05</td>\n",
       "      <td>1.580031e+00</td>\n",
       "    </tr>\n",
       "    <tr>\n",
       "      <th>50%</th>\n",
       "      <td>2.551336e+05</td>\n",
       "      <td>4.754687e+06</td>\n",
       "      <td>1.673431e+02</td>\n",
       "    </tr>\n",
       "    <tr>\n",
       "      <th>75%</th>\n",
       "      <td>3.042870e+06</td>\n",
       "      <td>5.252181e+07</td>\n",
       "      <td>3.917936e+03</td>\n",
       "    </tr>\n",
       "    <tr>\n",
       "      <th>max</th>\n",
       "      <td>1.898052e+07</td>\n",
       "      <td>8.618911e+09</td>\n",
       "      <td>3.055119e+06</td>\n",
       "    </tr>\n",
       "  </tbody>\n",
       "</table>\n",
       "</div>"
      ],
      "text/plain": [
       "       ClimbingSearch      Anneling   BlindSearch\n",
       "count    3.000000e+01  3.000000e+01  3.000000e+01\n",
       "mean     2.382559e+06  4.243862e+08  2.090568e+05\n",
       "std      4.421461e+06  1.602126e+09  6.425099e+05\n",
       "min      5.564683e-01  6.009773e-04  5.607765e-06\n",
       "25%      7.759592e+03  4.521543e+05  1.580031e+00\n",
       "50%      2.551336e+05  4.754687e+06  1.673431e+02\n",
       "75%      3.042870e+06  5.252181e+07  3.917936e+03\n",
       "max      1.898052e+07  8.618911e+09  3.055119e+06"
      ]
     },
     "metadata": {},
     "output_type": "display_data"
    },
    {
     "data": {
      "text/markdown": [
       "# sphere"
      ],
      "text/plain": [
       "<IPython.core.display.Markdown object>"
      ]
     },
     "metadata": {},
     "output_type": "display_data"
    },
    {
     "data": {
      "image/png": "[encoded data removed]",
      "text/plain": [
       "<Figure size 432x288 with 1 Axes>"
      ]
     },
     "metadata": {
      "needs_background": "light"
     },
     "output_type": "display_data"
    },
    {
     "name": "stdout",
     "output_type": "stream",
     "text": [
      "[2.26239221e-01 4.23235843e-05 1.57548599e-01]\n",
      "[False  True False]\n",
      "BartlettResult(statistic=61.00632094118387, pvalue=0.00046220996527597427)\n"
     ]
    },
    {
     "data": {
      "text/html": [
       "<div>\n",
       "<style scoped>\n",
       "    .dataframe tbody tr th:only-of-type {\n",
       "        vertical-align: middle;\n",
       "    }\n",
       "\n",
       "    .dataframe tbody tr th {\n",
       "        vertical-align: top;\n",
       "    }\n",
       "\n",
       "    .dataframe thead th {\n",
       "        text-align: right;\n",
       "    }\n",
       "</style>\n",
       "<table border=\"1\" class=\"dataframe\">\n",
       "  <thead>\n",
       "    <tr style=\"text-align: right;\">\n",
       "      <th></th>\n",
       "      <th>ClimbingSearch</th>\n",
       "      <th>Anneling</th>\n",
       "      <th>BlindSearch</th>\n",
       "    </tr>\n",
       "  </thead>\n",
       "  <tbody>\n",
       "    <tr>\n",
       "      <th>count</th>\n",
       "      <td>30.000000</td>\n",
       "      <td>30.000000</td>\n",
       "      <td>30.000000</td>\n",
       "    </tr>\n",
       "    <tr>\n",
       "      <th>mean</th>\n",
       "      <td>19.740651</td>\n",
       "      <td>25.966373</td>\n",
       "      <td>8.780529</td>\n",
       "    </tr>\n",
       "    <tr>\n",
       "      <th>std</th>\n",
       "      <td>12.870783</td>\n",
       "      <td>23.073058</td>\n",
       "      <td>6.072082</td>\n",
       "    </tr>\n",
       "    <tr>\n",
       "      <th>min</th>\n",
       "      <td>0.185169</td>\n",
       "      <td>2.892692</td>\n",
       "      <td>0.894397</td>\n",
       "    </tr>\n",
       "    <tr>\n",
       "      <th>25%</th>\n",
       "      <td>7.966380</td>\n",
       "      <td>9.696926</td>\n",
       "      <td>3.293134</td>\n",
       "    </tr>\n",
       "    <tr>\n",
       "      <th>50%</th>\n",
       "      <td>21.791199</td>\n",
       "      <td>17.724849</td>\n",
       "      <td>9.381117</td>\n",
       "    </tr>\n",
       "    <tr>\n",
       "      <th>75%</th>\n",
       "      <td>27.336422</td>\n",
       "      <td>34.903318</td>\n",
       "      <td>13.786285</td>\n",
       "    </tr>\n",
       "    <tr>\n",
       "      <th>max</th>\n",
       "      <td>43.155027</td>\n",
       "      <td>102.153607</td>\n",
       "      <td>21.961048</td>\n",
       "    </tr>\n",
       "  </tbody>\n",
       "</table>\n",
       "</div>"
      ],
      "text/plain": [
       "       ClimbingSearch    Anneling  BlindSearch\n",
       "count       30.000000   30.000000    30.000000\n",
       "mean        19.740651   25.966373     8.780529\n",
       "std         12.870783   23.073058     6.072082\n",
       "min          0.185169    2.892692     0.894397\n",
       "25%          7.966380    9.696926     3.293134\n",
       "50%         21.791199   17.724849     9.381117\n",
       "75%         27.336422   34.903318    13.786285\n",
       "max         43.155027  102.153607    21.961048"
      ]
     },
     "metadata": {},
     "output_type": "display_data"
    },
    {
     "data": {
      "text/markdown": [
       "# styblinski_tang"
      ],
      "text/plain": [
       "<IPython.core.display.Markdown object>"
      ]
     },
     "metadata": {},
     "output_type": "display_data"
    },
    {
     "data": {
      "image/png": "[encoded data removed]",
      "text/plain": [
       "<Figure size 432x288 with 1 Axes>"
      ]
     },
     "metadata": {
      "needs_background": "light"
     },
     "output_type": "display_data"
    },
    {
     "name": "stdout",
     "output_type": "stream",
     "text": [
      "[1.10719911e-02 3.28518527e-08 5.40284996e-05]\n",
      "[ True  True  True]\n",
      "BartlettResult(statistic=160.64663316993833, pvalue=3.520208833358873e-20)\n"
     ]
    },
    {
     "data": {
      "text/html": [
       "<div>\n",
       "<style scoped>\n",
       "    .dataframe tbody tr th:only-of-type {\n",
       "        vertical-align: middle;\n",
       "    }\n",
       "\n",
       "    .dataframe tbody tr th {\n",
       "        vertical-align: top;\n",
       "    }\n",
       "\n",
       "    .dataframe thead th {\n",
       "        text-align: right;\n",
       "    }\n",
       "</style>\n",
       "<table border=\"1\" class=\"dataframe\">\n",
       "  <thead>\n",
       "    <tr style=\"text-align: right;\">\n",
       "      <th></th>\n",
       "      <th>ClimbingSearch</th>\n",
       "      <th>Anneling</th>\n",
       "      <th>BlindSearch</th>\n",
       "    </tr>\n",
       "  </thead>\n",
       "  <tbody>\n",
       "    <tr>\n",
       "      <th>count</th>\n",
       "      <td>30.000000</td>\n",
       "      <td>30.000000</td>\n",
       "      <td>30.000000</td>\n",
       "    </tr>\n",
       "    <tr>\n",
       "      <th>mean</th>\n",
       "      <td>-7.870549</td>\n",
       "      <td>180.585434</td>\n",
       "      <td>-36.271183</td>\n",
       "    </tr>\n",
       "    <tr>\n",
       "      <th>std</th>\n",
       "      <td>58.696244</td>\n",
       "      <td>423.990786</td>\n",
       "      <td>21.957297</td>\n",
       "    </tr>\n",
       "    <tr>\n",
       "      <th>min</th>\n",
       "      <td>-78.329975</td>\n",
       "      <td>-65.203760</td>\n",
       "      <td>-64.898666</td>\n",
       "    </tr>\n",
       "    <tr>\n",
       "      <th>25%</th>\n",
       "      <td>-48.108290</td>\n",
       "      <td>-25.161586</td>\n",
       "      <td>-50.843895</td>\n",
       "    </tr>\n",
       "    <tr>\n",
       "      <th>50%</th>\n",
       "      <td>-27.983407</td>\n",
       "      <td>0.389593</td>\n",
       "      <td>-40.942221</td>\n",
       "    </tr>\n",
       "    <tr>\n",
       "      <th>75%</th>\n",
       "      <td>13.881585</td>\n",
       "      <td>111.786139</td>\n",
       "      <td>-27.952485</td>\n",
       "    </tr>\n",
       "    <tr>\n",
       "      <th>max</th>\n",
       "      <td>145.617664</td>\n",
       "      <td>1811.882694</td>\n",
       "      <td>29.690517</td>\n",
       "    </tr>\n",
       "  </tbody>\n",
       "</table>\n",
       "</div>"
      ],
      "text/plain": [
       "       ClimbingSearch     Anneling  BlindSearch\n",
       "count       30.000000    30.000000    30.000000\n",
       "mean        -7.870549   180.585434   -36.271183\n",
       "std         58.696244   423.990786    21.957297\n",
       "min        -78.329975   -65.203760   -64.898666\n",
       "25%        -48.108290   -25.161586   -50.843895\n",
       "50%        -27.983407     0.389593   -40.942221\n",
       "75%         13.881585   111.786139   -27.952485\n",
       "max        145.617664  1811.882694    29.690517"
      ]
     },
     "metadata": {},
     "output_type": "display_data"
    },
    {
     "data": {
      "text/markdown": [
       "# trychtyr"
      ],
      "text/plain": [
       "<IPython.core.display.Markdown object>"
      ]
     },
     "metadata": {},
     "output_type": "display_data"
    }
   ],
   "source": [
    "%matplotlib inline\n",
    "import matplotlib.pyplot as plt\n",
    "import pandas as pd\n",
    "import scipy.stats\n",
    "import numpy as np\n",
    "from IPython.display import display, Markdown\n",
    "\n",
    "import test_functions\n",
    "import algorithms\n",
    "from utils import Space, all_functions\n",
    "\n",
    "space = Space(2 * [[-6, 6]])\n",
    "alpha = 0.05\n",
    "options = {\n",
    "    'iterations': 5,\n",
    "    'population': 10,\n",
    "    'sigma': 0.1,\n",
    "    'start_position': None,\n",
    "    \n",
    "    'initial_temp': 2000,\n",
    "    'final_temp': 10,\n",
    "    'alpha': 0.99,\n",
    "    'sigma': 0.1,\n",
    "    \n",
    "}\n",
    "\n",
    "algos = [algorithms.ClimbingSearch, algorithms.Anneling, algorithms.BlindSearch]\n",
    "functions = all_functions()\n",
    "\n",
    "final = {algo.__name__: [] for algo in algos}\n",
    "final['fn'] = [fn.__name__ for fn in functions]\n",
    "for fn in functions:\n",
    "    display(Markdown(f'# {fn.__name__}'))\n",
    "    data = pd.DataFrame()\n",
    "    for algo in algos:\n",
    "        results = []\n",
    "        for i in range(30):\n",
    "            alg = algo()\n",
    "            points = list(alg.run(space, fn, options))\n",
    "            results.append(fn(alg.arg))\n",
    "        data[algo.__name__] = results\n",
    "        final[algo.__name__].append(np.mean(results))\n",
    "    \n",
    "    plt.ylabel(\"extreme value\")\n",
    "    plt.title(fn.__name__)\n",
    "    data.boxplot()\n",
    "    plt.show()\n",
    "    \n",
    "    _, p = scipy.stats.normaltest(data)\n",
    "    print(p)\n",
    "    print(p < alpha)\n",
    "    \n",
    "    print(scipy.stats.bartlett(*data.values))\n",
    "    \n",
    "    display(data.describe())\n",
    "final = pd.DataFrame(final).set_index('fn')\n",
    "display(final)"
   ]
  }
 ],
 "metadata": {
  "kernelspec": {
   "display_name": "Python 3",
   "language": "python",
   "name": "python3"
  },
  "language_info": {
   "codemirror_mode": {
    "name": "ipython",
    "version": 3
   },
   "file_extension": ".py",
   "mimetype": "text/x-python",
   "name": "python",
   "nbconvert_exporter": "python",
   "pygments_lexer": "ipython3",
   "version": "3.7.0"
  }
 },
 "nbformat": 4,
 "nbformat_minor": 2
}

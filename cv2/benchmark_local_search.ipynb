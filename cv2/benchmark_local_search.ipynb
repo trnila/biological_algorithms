{
 "cells": [
  {
   "cell_type": "markdown",
   "metadata": {},
   "source": [
    "# Benchmark local search algorithms"
   ]
  },
  {
   "cell_type": "code",
   "execution_count": 24,
   "metadata": {
    "scrolled": false
   },
   "outputs": [
    {
     "data": {
      "text/markdown": [
       "# ackley"
      ],
      "text/plain": [
       "<IPython.core.display.Markdown object>"
      ]
     },
     "metadata": {},
     "output_type": "display_data"
    },
    {
     "data": {
      "image/png": "[encoded data removed]",
      "text/plain": [
       "<Figure size 1440x432 with 2 Axes>"
      ]
     },
     "metadata": {
      "needs_background": "light"
     },
     "output_type": "display_data"
    },
    {
     "data": {
      "image/png": "[encoded data removed]",
      "text/plain": [
       "<Figure size 432x288 with 4 Axes>"
      ]
     },
     "metadata": {
      "needs_background": "light"
     },
     "output_type": "display_data"
    },
    {
     "data": {
      "text/html": [
       "<div>\n",
       "<style scoped>\n",
       "    .dataframe tbody tr th:only-of-type {\n",
       "        vertical-align: middle;\n",
       "    }\n",
       "\n",
       "    .dataframe tbody tr th {\n",
       "        vertical-align: top;\n",
       "    }\n",
       "\n",
       "    .dataframe thead th {\n",
       "        text-align: right;\n",
       "    }\n",
       "</style>\n",
       "<table border=\"1\" class=\"dataframe\">\n",
       "  <thead>\n",
       "    <tr style=\"text-align: right;\">\n",
       "      <th></th>\n",
       "      <th>Anneling</th>\n",
       "      <th>BlindSearch</th>\n",
       "      <th>ClimbingSearch</th>\n",
       "    </tr>\n",
       "  </thead>\n",
       "  <tbody>\n",
       "    <tr>\n",
       "      <th>count</th>\n",
       "      <td>30.00000000000000000000</td>\n",
       "      <td>30.00000000000000000000</td>\n",
       "      <td>30.00000000000000000000</td>\n",
       "    </tr>\n",
       "    <tr>\n",
       "      <th>mean</th>\n",
       "      <td>10.00471650262393197295</td>\n",
       "      <td>0.85094684586275315397</td>\n",
       "      <td>7.92283399762645679232</td>\n",
       "    </tr>\n",
       "    <tr>\n",
       "      <th>std</th>\n",
       "      <td>4.29520280301530110734</td>\n",
       "      <td>0.59832907296460391411</td>\n",
       "      <td>3.22849798136089294331</td>\n",
       "    </tr>\n",
       "    <tr>\n",
       "      <th>min</th>\n",
       "      <td>0.00998761342777854111</td>\n",
       "      <td>0.08297969219686152087</td>\n",
       "      <td>0.00478197169953631374</td>\n",
       "    </tr>\n",
       "    <tr>\n",
       "      <th>25%</th>\n",
       "      <td>6.95820529373687080010</td>\n",
       "      <td>0.34363749316525993294</td>\n",
       "      <td>6.55971937053021392217</td>\n",
       "    </tr>\n",
       "    <tr>\n",
       "      <th>50%</th>\n",
       "      <td>10.18980174570852170746</td>\n",
       "      <td>0.75381983385834949729</td>\n",
       "      <td>7.57154035970203143080</td>\n",
       "    </tr>\n",
       "    <tr>\n",
       "      <th>75%</th>\n",
       "      <td>13.81946692251749908564</td>\n",
       "      <td>0.95606877997039685368</td>\n",
       "      <td>10.25825476941110103724</td>\n",
       "    </tr>\n",
       "    <tr>\n",
       "      <th>max</th>\n",
       "      <td>17.07757046247366261582</td>\n",
       "      <td>2.25989583972224394870</td>\n",
       "      <td>12.24439096604461063578</td>\n",
       "    </tr>\n",
       "  </tbody>\n",
       "</table>\n",
       "</div>"
      ],
      "text/plain": [
       "                      Anneling              BlindSearch  \\\n",
       "count  30.00000000000000000000  30.00000000000000000000   \n",
       "mean   10.00471650262393197295   0.85094684586275315397   \n",
       "std     4.29520280301530110734   0.59832907296460391411   \n",
       "min     0.00998761342777854111   0.08297969219686152087   \n",
       "25%     6.95820529373687080010   0.34363749316525993294   \n",
       "50%    10.18980174570852170746   0.75381983385834949729   \n",
       "75%    13.81946692251749908564   0.95606877997039685368   \n",
       "max    17.07757046247366261582   2.25989583972224394870   \n",
       "\n",
       "                ClimbingSearch  \n",
       "count  30.00000000000000000000  \n",
       "mean    7.92283399762645679232  \n",
       "std     3.22849798136089294331  \n",
       "min     0.00478197169953631374  \n",
       "25%     6.55971937053021392217  \n",
       "50%     7.57154035970203143080  \n",
       "75%    10.25825476941110103724  \n",
       "max    12.24439096604461063578  "
      ]
     },
     "metadata": {},
     "output_type": "display_data"
    },
    {
     "ename": "TypeError",
     "evalue": "can only concatenate str (not \"list\") to str",
     "output_type": "error",
     "traceback": [
      "\u001b[0;31m---------------------------------------------------------------------------\u001b[0m",
      "\u001b[0;31mTypeError\u001b[0m                                 Traceback (most recent call last)",
      "\u001b[0;32m<ipython-input-24-f23f23025803>\u001b[0m in \u001b[0;36m<module>\u001b[0;34m()\u001b[0m\n\u001b[1;32m     75\u001b[0m     \u001b[0;32mif\u001b[0m \u001b[0;34m(\u001b[0m\u001b[0mdata\u001b[0m\u001b[0;34m.\u001b[0m\u001b[0mstd\u001b[0m\u001b[0;34m(\u001b[0m\u001b[0;34m)\u001b[0m \u001b[0;34m>\u001b[0m \u001b[0;36m0.0001\u001b[0m\u001b[0;34m)\u001b[0m\u001b[0;34m.\u001b[0m\u001b[0mall\u001b[0m\u001b[0;34m(\u001b[0m\u001b[0;34m)\u001b[0m\u001b[0;34m:\u001b[0m\u001b[0;34m\u001b[0m\u001b[0m\n\u001b[1;32m     76\u001b[0m         \u001b[0mcolumns\u001b[0m \u001b[0;34m=\u001b[0m \u001b[0;34m[\u001b[0m\u001b[0mdata\u001b[0m\u001b[0;34m[\u001b[0m\u001b[0mcol\u001b[0m\u001b[0;34m]\u001b[0m\u001b[0;34m.\u001b[0m\u001b[0mvalues\u001b[0m \u001b[0;32mfor\u001b[0m \u001b[0mcol\u001b[0m \u001b[0;32min\u001b[0m \u001b[0mdata\u001b[0m\u001b[0;34m]\u001b[0m\u001b[0;34m\u001b[0m\u001b[0m\n\u001b[0;32m---> 77\u001b[0;31m         \u001b[0mdisplay\u001b[0m\u001b[0;34m(\u001b[0m\u001b[0;34m\"Shapiro-wilkov: \"\u001b[0m \u001b[0;34m+\u001b[0m \u001b[0;34m[\u001b[0m\u001b[0mscipy\u001b[0m\u001b[0;34m.\u001b[0m\u001b[0mstats\u001b[0m\u001b[0;34m.\u001b[0m\u001b[0mshapiro\u001b[0m\u001b[0;34m(\u001b[0m\u001b[0mcol\u001b[0m\u001b[0;34m)\u001b[0m\u001b[0;34m[\u001b[0m\u001b[0;36m1\u001b[0m\u001b[0;34m]\u001b[0m \u001b[0;32mfor\u001b[0m \u001b[0mcol\u001b[0m \u001b[0;32min\u001b[0m \u001b[0mcolumns\u001b[0m\u001b[0;34m]\u001b[0m\u001b[0;34m)\u001b[0m\u001b[0;34m\u001b[0m\u001b[0m\n\u001b[0m\u001b[1;32m     78\u001b[0m         \u001b[0mkruskal\u001b[0m \u001b[0;34m=\u001b[0m \u001b[0mscipy\u001b[0m\u001b[0;34m.\u001b[0m\u001b[0mstats\u001b[0m\u001b[0;34m.\u001b[0m\u001b[0mkruskal\u001b[0m\u001b[0;34m(\u001b[0m\u001b[0;34m*\u001b[0m\u001b[0mcolumns\u001b[0m\u001b[0;34m)\u001b[0m\u001b[0;34m\u001b[0m\u001b[0m\n\u001b[1;32m     79\u001b[0m         \u001b[0mdisplay\u001b[0m\u001b[0;34m(\u001b[0m\u001b[0mkruskal\u001b[0m\u001b[0;34m)\u001b[0m\u001b[0;34m\u001b[0m\u001b[0m\n",
      "\u001b[0;31mTypeError\u001b[0m: can only concatenate str (not \"list\") to str"
     ]
    }
   ],
   "source": [
    "%matplotlib inline\n",
    "#%config InlineBackend.figure_format = 'svg'\n",
    "import matplotlib.pyplot as plt\n",
    "import pandas as pd\n",
    "import scipy.stats\n",
    "import numpy as np\n",
    "import scikit_posthocs as sp\n",
    "from IPython.display import display, Markdown\n",
    "\n",
    "import test_functions\n",
    "import algorithms\n",
    "from utils import Space, all_functions, all_algorithms\n",
    "\n",
    "pd.set_option('precision', 20)\n",
    "\n",
    "SAMPLES = 30\n",
    "ALPHA = 0.05\n",
    "\n",
    "space = Space(2 * [[-6, 6]])\n",
    "\n",
    "options = {}\n",
    "options[algorithms.BlindSearch.__name__] = {\n",
    "    'iterations': 2000,\n",
    "}\n",
    "options[algorithms.ClimbingSearch.__name__] = {\n",
    "    'iterations': 100,\n",
    "    'population': 20,\n",
    "    'sigma': 0.1,\n",
    "    'start_position': None,\n",
    "}\n",
    "options[algorithms.Anneling.__name__] = {\n",
    "    'initial_temp': 2000,\n",
    "    'final_temp': 0.00000375,\n",
    "    'alpha': 0.99,\n",
    "    'sigma': 0.1,\n",
    "    'start_position': None,\n",
    "}\n",
    "\n",
    "algos = all_algorithms()\n",
    "functions = all_functions()\n",
    "#functions = [test_functions.holder_table]\n",
    "\n",
    "final = {algo.__name__: [] for algo in algos}\n",
    "final['fn'] = [fn.__name__ for fn in functions]\n",
    "for fn in functions:\n",
    "    display(Markdown(f'# {fn.__name__}'))\n",
    "    data = pd.DataFrame()\n",
    "    for algo in algos:\n",
    "        results = []\n",
    "        for i in range(SAMPLES):\n",
    "            alg = algo()\n",
    "            points = list(alg.run(space, fn, options[algo.__name__]))\n",
    "            results.append(fn(alg.arg))\n",
    "        data[algo.__name__] = results\n",
    "        final[algo.__name__].append(np.mean(results))\n",
    "       \n",
    "    # boxplots\n",
    "    fig, (ax1, ax2) = plt.subplots(ncols=2, figsize=(20,6))\n",
    "    ax1.set_title(\"extreme value (with outliers)\")\n",
    "    ax1.set_ylabel(\"extreme value\")\n",
    "    data.boxplot(showmeans=True, meanline=True, ax=ax1)\n",
    "    \n",
    "    ax2.set_title(\"extreme value (without outliers)\")\n",
    "    ax2.set_ylabel(\"extreme value\")\n",
    "    data.boxplot(showfliers=False, showmeans=True, meanline=True, ax=ax2)\n",
    "    plt.show()\n",
    "    \n",
    "    # histograms\n",
    "    data.hist()\n",
    "    plt.show()\n",
    "    \n",
    "    display(data.describe())\n",
    "        \n",
    "    # data normality, kruskal test\n",
    "    if (data.std() > 0.0001).all():\n",
    "        columns = [data[col].values for col in data]\n",
    "        display(\"Shapiro-wilkov: \" + [scipy.stats.shapiro(col)[1] for col in columns])\n",
    "        kruskal = scipy.stats.kruskal(*columns)\n",
    "        display(kruskal)\n",
    "        if kruskal.pvalue < ALPHA:    \n",
    "            display(sp.posthoc_dunn(columns))\n",
    "final = pd.DataFrame(final).set_index('fn')\n",
    "display(final)"
   ]
  }
 ],
 "metadata": {
  "kernelspec": {
   "display_name": "Python 3",
   "language": "python",
   "name": "python3"
  },
  "language_info": {
   "codemirror_mode": {
    "name": "ipython",
    "version": 3
   },
   "file_extension": ".py",
   "mimetype": "text/x-python",
   "name": "python",
   "nbconvert_exporter": "python",
   "pygments_lexer": "ipython3",
   "version": "3.7.0"
  }
 },
 "nbformat": 4,
 "nbformat_minor": 2
}
